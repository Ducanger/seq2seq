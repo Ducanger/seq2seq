{
 "cells": [
  {
   "cell_type": "code",
   "execution_count": null,
   "metadata": {},
   "outputs": [],
   "source": [
    "import pandas as pd \n",
    "df = pd.read_csv('graph2vec_embeddings.csv_')"
   ]
  },
  {
   "cell_type": "code",
   "execution_count": 1,
   "metadata": {},
   "outputs": [
    {
     "data": {
      "text/html": [
       "<div>\n",
       "<style scoped>\n",
       "    .dataframe tbody tr th:only-of-type {\n",
       "        vertical-align: middle;\n",
       "    }\n",
       "\n",
       "    .dataframe tbody tr th {\n",
       "        vertical-align: top;\n",
       "    }\n",
       "\n",
       "    .dataframe thead th {\n",
       "        text-align: right;\n",
       "    }\n",
       "</style>\n",
       "<table border=\"1\" class=\"dataframe\">\n",
       "  <thead>\n",
       "    <tr style=\"text-align: right;\">\n",
       "      <th></th>\n",
       "      <th>type</th>\n",
       "      <th>x_0</th>\n",
       "      <th>x_1</th>\n",
       "      <th>x_2</th>\n",
       "      <th>x_3</th>\n",
       "      <th>x_4</th>\n",
       "      <th>x_5</th>\n",
       "      <th>x_6</th>\n",
       "      <th>x_7</th>\n",
       "      <th>x_8</th>\n",
       "      <th>...</th>\n",
       "      <th>x_502</th>\n",
       "      <th>x_503</th>\n",
       "      <th>x_504</th>\n",
       "      <th>x_505</th>\n",
       "      <th>x_506</th>\n",
       "      <th>x_507</th>\n",
       "      <th>x_508</th>\n",
       "      <th>x_509</th>\n",
       "      <th>x_510</th>\n",
       "      <th>x_511</th>\n",
       "    </tr>\n",
       "  </thead>\n",
       "  <tbody>\n",
       "    <tr>\n",
       "      <th>0</th>\n",
       "      <td>01org___tpm2.0-tools_a3d6df60d919f410bc7ce32cc...</td>\n",
       "      <td>-0.108802</td>\n",
       "      <td>0.139366</td>\n",
       "      <td>-0.028658</td>\n",
       "      <td>0.097937</td>\n",
       "      <td>0.017539</td>\n",
       "      <td>0.11062</td>\n",
       "      <td>0.023523</td>\n",
       "      <td>-0.043217</td>\n",
       "      <td>-0.068864</td>\n",
       "      <td>...</td>\n",
       "      <td>-0.165657</td>\n",
       "      <td>-0.077704</td>\n",
       "      <td>-0.099639</td>\n",
       "      <td>0.075885</td>\n",
       "      <td>0.186397</td>\n",
       "      <td>0.129244</td>\n",
       "      <td>-0.015877</td>\n",
       "      <td>0.040121</td>\n",
       "      <td>-0.180865</td>\n",
       "      <td>-0.088714</td>\n",
       "    </tr>\n",
       "  </tbody>\n",
       "</table>\n",
       "<p>1 rows × 513 columns</p>\n",
       "</div>"
      ],
      "text/plain": [
       "                                                type       x_0       x_1  \\\n",
       "0  01org___tpm2.0-tools_a3d6df60d919f410bc7ce32cc... -0.108802  0.139366   \n",
       "\n",
       "        x_2       x_3       x_4      x_5       x_6       x_7       x_8  ...  \\\n",
       "0 -0.028658  0.097937  0.017539  0.11062  0.023523 -0.043217 -0.068864  ...   \n",
       "\n",
       "      x_502     x_503     x_504     x_505     x_506     x_507     x_508  \\\n",
       "0 -0.165657 -0.077704 -0.099639  0.075885  0.186397  0.129244 -0.015877   \n",
       "\n",
       "      x_509     x_510     x_511  \n",
       "0  0.040121 -0.180865 -0.088714  \n",
       "\n",
       "[1 rows x 513 columns]"
      ]
     },
     "execution_count": 1,
     "metadata": {},
     "output_type": "execute_result"
    }
   ],
   "source": [
    "import pandas as pd \n",
    "df = pd.read_csv('graph2vec_embeddings.csv')\n",
    "df.head(1)"
   ]
  },
  {
   "cell_type": "code",
   "execution_count": null,
   "metadata": {},
   "outputs": [],
   "source": [
    "# list(df['type'])"
   ]
  },
  {
   "cell_type": "code",
   "execution_count": 4,
   "metadata": {},
   "outputs": [],
   "source": [
    "with open('cms.txt','w+') as f:\n",
    "    f.write('\\n'.join(list(df['type'])))"
   ]
  },
  {
   "cell_type": "code",
   "execution_count": 5,
   "metadata": {},
   "outputs": [
    {
     "data": {
      "text/html": [
       "<div>\n",
       "<style scoped>\n",
       "    .dataframe tbody tr th:only-of-type {\n",
       "        vertical-align: middle;\n",
       "    }\n",
       "\n",
       "    .dataframe tbody tr th {\n",
       "        vertical-align: top;\n",
       "    }\n",
       "\n",
       "    .dataframe thead th {\n",
       "        text-align: right;\n",
       "    }\n",
       "</style>\n",
       "<table border=\"1\" class=\"dataframe\">\n",
       "  <thead>\n",
       "    <tr style=\"text-align: right;\">\n",
       "      <th></th>\n",
       "      <th>type</th>\n",
       "      <th>x_0</th>\n",
       "      <th>x_1</th>\n",
       "      <th>x_2</th>\n",
       "      <th>x_3</th>\n",
       "      <th>x_4</th>\n",
       "      <th>x_5</th>\n",
       "      <th>x_6</th>\n",
       "      <th>x_7</th>\n",
       "      <th>x_8</th>\n",
       "      <th>...</th>\n",
       "      <th>x_502</th>\n",
       "      <th>x_503</th>\n",
       "      <th>x_504</th>\n",
       "      <th>x_505</th>\n",
       "      <th>x_506</th>\n",
       "      <th>x_507</th>\n",
       "      <th>x_508</th>\n",
       "      <th>x_509</th>\n",
       "      <th>x_510</th>\n",
       "      <th>x_511</th>\n",
       "    </tr>\n",
       "  </thead>\n",
       "  <tbody>\n",
       "    <tr>\n",
       "      <th>0</th>\n",
       "      <td>01org___tpm2.0-tools_a3d6df60d919f410bc7ce32cc...</td>\n",
       "      <td>-0.108802</td>\n",
       "      <td>0.139366</td>\n",
       "      <td>-0.028658</td>\n",
       "      <td>0.097937</td>\n",
       "      <td>0.017539</td>\n",
       "      <td>0.11062</td>\n",
       "      <td>0.023523</td>\n",
       "      <td>-0.043217</td>\n",
       "      <td>-0.068864</td>\n",
       "      <td>...</td>\n",
       "      <td>-0.165657</td>\n",
       "      <td>-0.077704</td>\n",
       "      <td>-0.099639</td>\n",
       "      <td>0.075885</td>\n",
       "      <td>0.186397</td>\n",
       "      <td>0.129244</td>\n",
       "      <td>-0.015877</td>\n",
       "      <td>0.040121</td>\n",
       "      <td>-0.180865</td>\n",
       "      <td>-0.088714</td>\n",
       "    </tr>\n",
       "  </tbody>\n",
       "</table>\n",
       "<p>1 rows × 513 columns</p>\n",
       "</div>"
      ],
      "text/plain": [
       "                                                type       x_0       x_1  \\\n",
       "0  01org___tpm2.0-tools_a3d6df60d919f410bc7ce32cc... -0.108802  0.139366   \n",
       "\n",
       "        x_2       x_3       x_4      x_5       x_6       x_7       x_8  ...  \\\n",
       "0 -0.028658  0.097937  0.017539  0.11062  0.023523 -0.043217 -0.068864  ...   \n",
       "\n",
       "      x_502     x_503     x_504     x_505     x_506     x_507     x_508  \\\n",
       "0 -0.165657 -0.077704 -0.099639  0.075885  0.186397  0.129244 -0.015877   \n",
       "\n",
       "      x_509     x_510     x_511  \n",
       "0  0.040121 -0.180865 -0.088714  \n",
       "\n",
       "[1 rows x 513 columns]"
      ]
     },
     "execution_count": 5,
     "metadata": {},
     "output_type": "execute_result"
    }
   ],
   "source": [
    "import pandas as pd \n",
    "df= pd.read_csv('graph2vec_embeddings.csv')"
   ]
  },
  {
   "cell_type": "code",
   "execution_count": 8,
   "metadata": {},
   "outputs": [
    {
     "name": "stdout",
     "output_type": "stream",
     "text": [
      "01org___tpm2.0-tools_a3d6df60d919f410bc7ce32cc01cea768aba96c6\n"
     ]
    }
   ],
   "source": [
    "print(df.head(1)['type'].values[0])\n"
   ]
  },
  {
   "cell_type": "code",
   "execution_count": 15,
   "metadata": {},
   "outputs": [],
   "source": [
    "tmp = df[df['type']=='01org___tpm2.0-tools_a3d6df60d919f410bc7ce32cc01cea768aba96c6']"
   ]
  },
  {
   "cell_type": "code",
   "execution_count": 22,
   "metadata": {},
   "outputs": [
    {
     "data": {
      "text/plain": [
       "512"
      ]
     },
     "execution_count": 22,
     "metadata": {},
     "output_type": "execute_result"
    },
    {
     "ename": "",
     "evalue": "",
     "output_type": "error",
     "traceback": [
      "\u001b[1;31mThe Kernel crashed while executing code in the the current cell or a previous cell. Please review the code in the cell(s) to identify a possible cause of the failure. Click <a href='https://aka.ms/vscodeJupyterKernelCrash'>here</a> for more info. View Jupyter <a href='command:jupyter.viewOutput'>log</a> for further details."
     ]
    }
   ],
   "source": [
    "len()"
   ]
  }
 ],
 "metadata": {
  "kernelspec": {
   "display_name": "Python 3 (ipykernel)",
   "language": "python",
   "name": "python3"
  },
  "language_info": {
   "codemirror_mode": {
    "name": "ipython",
    "version": 3
   },
   "file_extension": ".py",
   "mimetype": "text/x-python",
   "name": "python",
   "nbconvert_exporter": "python",
   "pygments_lexer": "ipython3",
   "version": "3.7.17"
  },
  "orig_nbformat": 4
 },
 "nbformat": 4,
 "nbformat_minor": 2
}
