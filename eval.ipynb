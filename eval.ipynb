{
 "cells": [
  {
   "cell_type": "code",
   "execution_count": 1,
   "metadata": {},
   "outputs": [],
   "source": [
    "# precs, recall (stem)\n",
    "# rougle, meteor, bleu 4, EM, "
   ]
  },
  {
   "cell_type": "code",
   "execution_count": 2,
   "metadata": {},
   "outputs": [
    {
     "name": "stdout",
     "output_type": "stream",
     "text": [
      "1\n"
     ]
    },
    {
     "name": "stderr",
     "output_type": "stream",
     "text": [
      "Total: 3253\n",
      "Total: 3253\n"
     ]
    },
    {
     "name": "stdout",
     "output_type": "stream",
     "text": [
      "3253\n",
      "3253\n",
      "Meteor: 3.771333204746588\n",
      "ROUGE-L: 5.997007886236626\n",
      " EM = 0.031 \n",
      " precs = 21.447 \n",
      "  bleu-4 = 6.652 \n",
      "  bleu-normal = 6.652 \n"
     ]
    }
   ],
   "source": [
    "import os\n",
    "import numpy as np\n",
    "from pycocoevalcap.meteor.meteor import Meteor\n",
    "from pycocoevalcap.rouge.rouge import Rouge\n",
    "from pycocoevalcap.cider.cider import  Cider\n",
    "import bleu\n",
    "\n",
    "def calc_prec(pred, tgt):\n",
    "    prds = pred.split()\n",
    "    tgs = tgt.split()\n",
    "    count = 0 \n",
    "    for prd in prds:\n",
    "        if prd in tgs:\n",
    "            count += 1\n",
    "    return count/ len(prds)\n",
    "\n",
    "def cal_metrics(index):\n",
    "    # prd_dir = os.path.join(f'{output_dir}',f'test.output')\n",
    "    # gold_dir = os.path.join(f'{output_dir}',f'test.gold')\n",
    "    # prd_dir = os.path.join(f'{output_dir}','test_best-bleu.output')\n",
    "    # gold_dir = os.path.join(f'{output_dir}','test_best-bleu.gold')\n",
    "\n",
    "    # prd_dir = os.path.join(f'{output_dir}','preds.txt')\n",
    "    # gold_dir = os.path.join(f'{output_dir}','msg.txt')\n",
    "    prd_dir = os.path.join(f'{output_dir}','test_1.output')\n",
    "    gold_dir = os.path.join(f'{output_dir}','test_1.gold')\n",
    "    # prd_dir = os.path.join(f'{output_dir}','test.output')\n",
    "    # gold_dir = os.path.join(f'{output_dir}','test.gold')\n",
    "    predictions = list()\n",
    "    golds = list()\n",
    "    \n",
    "    with open(prd_dir) as f:\n",
    "        predictions =  [line.strip() for line in f.readlines()]\n",
    "    with open(gold_dir) as f:\n",
    "        golds =  [line.strip() for line in f.readlines()]\n",
    "    # with open(prd_dir) as f:\n",
    "    #     predictions =  [str(i)+ '\\t' + line.strip() for i,line in enumerate(f.readlines())]\n",
    "    # with open(gold_dir) as f:\n",
    "    #     golds =  [str(i)+ '\\t' + line.strip() for i,line in enumerate(f.readlines())]\n",
    "    tmp_file= 'tmpgold.txt'\n",
    "    with open(tmp_file,'w+') as f:\n",
    "        f.write('\\n'.join(golds))\n",
    "    \n",
    "    EM = list()\n",
    "    precs = list()\n",
    "    for i, (ref, gold) in enumerate(zip(predictions, golds)):\n",
    "        EM.append(ref.split() == gold.split())\n",
    "        precs.append(calc_prec(ref,gold))\n",
    "    (goldMap, predictionMap) = bleu.computeMaps(\n",
    "        predictions, tmp_file)\n",
    "    dev_bleu = round(bleu.bleuFromMaps(goldMap, predictionMap)[0], 3)\n",
    "    (goldMap2, predictionMap2) = bleu.computeMaps(\n",
    "        predictions, tmp_file)\n",
    "    dev_bleu2 = round(bleu.bleuFromMaps(goldMap2, predictionMap2)[0], 3)\n",
    "    EM = round(np.mean(EM)*100, 3)\n",
    "    precs = round(np.mean(precs)*100, 3)\n",
    "    res = {k: [' '.join(v.split('\\t')[1:]).strip().lower()] for k, v in enumerate(predictions)}\n",
    "    tgt = {k: [' '.join(v.split('\\t')[1:]).strip().lower()] for k, v in enumerate(golds)}\n",
    "    \n",
    "    # precision 1-gram\n",
    "    print(len(res))\n",
    "    print(len(tgt))\n",
    "    score_Meteor, scores_Meteor = Meteor().compute_score(tgt, res)\n",
    "    print(\"Meteor: %s\" % (float(score_Meteor)*100))\n",
    "    score_Rouge, scores_Rouge = Rouge().compute_score(tgt, res)\n",
    "    print(\"ROUGE-L: %s\" % (float(score_Rouge)*100))\n",
    "    print(\" %s = %s \" % (\"EM\", str(EM)))\n",
    "    print(\" %s = %s \" % (\"precs\", str(precs)))\n",
    "    print(\"  %s = %s \" % (\"bleu-4\", str(dev_bleu)))\n",
    "    print(\"  %s = %s \" % (\"bleu-normal\", str(dev_bleu2)))\n",
    "    os.remove(tmp_file)\n",
    "tt = 't1002'\n",
    "output_dir = 'output/'\n",
    "for i in range(1,2):\n",
    "    print(i)\n",
    "    cal_metrics(i)\n",
    "!for pid in $(ps -ef | grep meteor | awk {'print $2'}); do kill -9 $pid; done"
   ]
  },
  {
   "cell_type": "code",
   "execution_count": 3,
   "metadata": {},
   "outputs": [],
   "source": [
    "# recall presc"
   ]
  },
  {
   "cell_type": "code",
   "execution_count": 4,
   "metadata": {},
   "outputs": [],
   "source": [
    "cache_stem = dict()\n",
    "from nltk.stem import PorterStemmer\n",
    "from nltk.tokenize import word_tokenize\n",
    "ps = PorterStemmer()\n",
    "import pandas as pd \n",
    "with open(f'{output_dir}/test_1.output') as f:\n",
    "    out = [l.strip() for l in f.readlines()]\n",
    "with open(f'{output_dir}/test_1.gold') as f:\n",
    "    gold = [l.strip() for l in f.readlines()]"
   ]
  },
  {
   "cell_type": "code",
   "execution_count": 5,
   "metadata": {},
   "outputs": [],
   "source": [
    "def preprocess(sentence):\n",
    "    sentence = sentence.lower()\n",
    "    sentence = [ps.stem(l) for l in sentence.split()]\n",
    "    # print(sentence)\n",
    "    return sentence\n",
    "def calc(ref,pred):\n",
    "    ref = preprocess(ref)\n",
    "    pred = preprocess(pred)\n",
    "    inter = set(ref).intersection(set(pred))\n",
    "    recall = len(inter) / len(ref)\n",
    "    precs = len(inter) / len(pred)\n",
    "    # doan dung / tong so dung recal\n",
    "    # doan dung / tong so doan prec\n",
    "    return recall, precs\n",
    "# read "
   ]
  },
  {
   "cell_type": "code",
   "execution_count": 6,
   "metadata": {},
   "outputs": [],
   "source": [
    "df = pd.DataFrame()\n",
    "df['out'] = out \n",
    "df['ref'] = gold"
   ]
  },
  {
   "cell_type": "code",
   "execution_count": 7,
   "metadata": {},
   "outputs": [],
   "source": [
    "recalls = list()\n",
    "precisions = list()\n",
    "for _,row in df.iterrows():\n",
    "    r,p = calc(row['ref'],row['out'])\n",
    "    recalls.append(r)\n",
    "    precisions.append(p)\n",
    "df['recall'] = recalls\n",
    "df['precision'] = precisions"
   ]
  },
  {
   "cell_type": "code",
   "execution_count": 8,
   "metadata": {},
   "outputs": [
    {
     "data": {
      "text/plain": [
       "5100"
      ]
     },
     "execution_count": 8,
     "metadata": {},
     "output_type": "execute_result"
    }
   ],
   "source": [
    "import json\n",
    "codes = list()\n",
    "file_old = list()\n",
    "file_new = list()\n",
    "cms = list()\n",
    "repos = list()\n",
    "with open('output/versions/seq2seq_double_transformer/test.jsonl') as f:\n",
    "    for l in f.readlines():\n",
    "        data = json.loads(l.strip())\n",
    "        code = data['code_tokens']\n",
    "        msg = data['docstring_tokens']\n",
    "        cms.append(data['index'])\n",
    "        codes.append(' '.join(code))\n",
    "len(codes)"
   ]
  },
  {
   "cell_type": "code",
   "execution_count": 9,
   "metadata": {},
   "outputs": [
    {
     "ename": "ValueError",
     "evalue": "Length of values (5100) does not match length of index (3253)",
     "output_type": "error",
     "traceback": [
      "\u001b[0;31m---------------------------------------------------------------------------\u001b[0m",
      "\u001b[0;31mValueError\u001b[0m                                Traceback (most recent call last)",
      "\u001b[0;32m/tmp/ipykernel_1071523/706922109.py\u001b[0m in \u001b[0;36m<module>\u001b[0;34m\u001b[0m\n\u001b[0;32m----> 1\u001b[0;31m \u001b[0mdf\u001b[0m\u001b[0;34m[\u001b[0m\u001b[0;34m'code'\u001b[0m\u001b[0;34m]\u001b[0m \u001b[0;34m=\u001b[0m \u001b[0mcodes\u001b[0m\u001b[0;34m\u001b[0m\u001b[0;34m\u001b[0m\u001b[0m\n\u001b[0m\u001b[1;32m      2\u001b[0m \u001b[0mdf\u001b[0m\u001b[0;34m[\u001b[0m\u001b[0;34m'commit_id'\u001b[0m\u001b[0;34m]\u001b[0m \u001b[0;34m=\u001b[0m \u001b[0mcms\u001b[0m\u001b[0;34m\u001b[0m\u001b[0;34m\u001b[0m\u001b[0m\n\u001b[1;32m      3\u001b[0m \u001b[0;31m# df['repo'] = repos\u001b[0m\u001b[0;34m\u001b[0m\u001b[0;34m\u001b[0m\u001b[0;34m\u001b[0m\u001b[0m\n",
      "\u001b[0;32m~/Desktop/lab/Seq2seq/env/lib/python3.7/site-packages/pandas/core/frame.py\u001b[0m in \u001b[0;36m__setitem__\u001b[0;34m(self, key, value)\u001b[0m\n\u001b[1;32m   3610\u001b[0m         \u001b[0;32melse\u001b[0m\u001b[0;34m:\u001b[0m\u001b[0;34m\u001b[0m\u001b[0;34m\u001b[0m\u001b[0m\n\u001b[1;32m   3611\u001b[0m             \u001b[0;31m# set column\u001b[0m\u001b[0;34m\u001b[0m\u001b[0;34m\u001b[0m\u001b[0;34m\u001b[0m\u001b[0m\n\u001b[0;32m-> 3612\u001b[0;31m             \u001b[0mself\u001b[0m\u001b[0;34m.\u001b[0m\u001b[0m_set_item\u001b[0m\u001b[0;34m(\u001b[0m\u001b[0mkey\u001b[0m\u001b[0;34m,\u001b[0m \u001b[0mvalue\u001b[0m\u001b[0;34m)\u001b[0m\u001b[0;34m\u001b[0m\u001b[0;34m\u001b[0m\u001b[0m\n\u001b[0m\u001b[1;32m   3613\u001b[0m \u001b[0;34m\u001b[0m\u001b[0m\n\u001b[1;32m   3614\u001b[0m     \u001b[0;32mdef\u001b[0m \u001b[0m_setitem_slice\u001b[0m\u001b[0;34m(\u001b[0m\u001b[0mself\u001b[0m\u001b[0;34m,\u001b[0m \u001b[0mkey\u001b[0m\u001b[0;34m:\u001b[0m \u001b[0mslice\u001b[0m\u001b[0;34m,\u001b[0m \u001b[0mvalue\u001b[0m\u001b[0;34m)\u001b[0m\u001b[0;34m:\u001b[0m\u001b[0;34m\u001b[0m\u001b[0;34m\u001b[0m\u001b[0m\n",
      "\u001b[0;32m~/Desktop/lab/Seq2seq/env/lib/python3.7/site-packages/pandas/core/frame.py\u001b[0m in \u001b[0;36m_set_item\u001b[0;34m(self, key, value)\u001b[0m\n\u001b[1;32m   3782\u001b[0m         \u001b[0mensure\u001b[0m \u001b[0mhomogeneity\u001b[0m\u001b[0;34m.\u001b[0m\u001b[0;34m\u001b[0m\u001b[0;34m\u001b[0m\u001b[0m\n\u001b[1;32m   3783\u001b[0m         \"\"\"\n\u001b[0;32m-> 3784\u001b[0;31m         \u001b[0mvalue\u001b[0m \u001b[0;34m=\u001b[0m \u001b[0mself\u001b[0m\u001b[0;34m.\u001b[0m\u001b[0m_sanitize_column\u001b[0m\u001b[0;34m(\u001b[0m\u001b[0mvalue\u001b[0m\u001b[0;34m)\u001b[0m\u001b[0;34m\u001b[0m\u001b[0;34m\u001b[0m\u001b[0m\n\u001b[0m\u001b[1;32m   3785\u001b[0m \u001b[0;34m\u001b[0m\u001b[0m\n\u001b[1;32m   3786\u001b[0m         if (\n",
      "\u001b[0;32m~/Desktop/lab/Seq2seq/env/lib/python3.7/site-packages/pandas/core/frame.py\u001b[0m in \u001b[0;36m_sanitize_column\u001b[0;34m(self, value)\u001b[0m\n\u001b[1;32m   4507\u001b[0m \u001b[0;34m\u001b[0m\u001b[0m\n\u001b[1;32m   4508\u001b[0m         \u001b[0;32mif\u001b[0m \u001b[0mis_list_like\u001b[0m\u001b[0;34m(\u001b[0m\u001b[0mvalue\u001b[0m\u001b[0;34m)\u001b[0m\u001b[0;34m:\u001b[0m\u001b[0;34m\u001b[0m\u001b[0;34m\u001b[0m\u001b[0m\n\u001b[0;32m-> 4509\u001b[0;31m             \u001b[0mcom\u001b[0m\u001b[0;34m.\u001b[0m\u001b[0mrequire_length_match\u001b[0m\u001b[0;34m(\u001b[0m\u001b[0mvalue\u001b[0m\u001b[0;34m,\u001b[0m \u001b[0mself\u001b[0m\u001b[0;34m.\u001b[0m\u001b[0mindex\u001b[0m\u001b[0;34m)\u001b[0m\u001b[0;34m\u001b[0m\u001b[0;34m\u001b[0m\u001b[0m\n\u001b[0m\u001b[1;32m   4510\u001b[0m         \u001b[0;32mreturn\u001b[0m \u001b[0msanitize_array\u001b[0m\u001b[0;34m(\u001b[0m\u001b[0mvalue\u001b[0m\u001b[0;34m,\u001b[0m \u001b[0mself\u001b[0m\u001b[0;34m.\u001b[0m\u001b[0mindex\u001b[0m\u001b[0;34m,\u001b[0m \u001b[0mcopy\u001b[0m\u001b[0;34m=\u001b[0m\u001b[0;32mTrue\u001b[0m\u001b[0;34m,\u001b[0m \u001b[0mallow_2d\u001b[0m\u001b[0;34m=\u001b[0m\u001b[0;32mTrue\u001b[0m\u001b[0;34m)\u001b[0m\u001b[0;34m\u001b[0m\u001b[0;34m\u001b[0m\u001b[0m\n\u001b[1;32m   4511\u001b[0m \u001b[0;34m\u001b[0m\u001b[0m\n",
      "\u001b[0;32m~/Desktop/lab/Seq2seq/env/lib/python3.7/site-packages/pandas/core/common.py\u001b[0m in \u001b[0;36mrequire_length_match\u001b[0;34m(data, index)\u001b[0m\n\u001b[1;32m    530\u001b[0m     \u001b[0;32mif\u001b[0m \u001b[0mlen\u001b[0m\u001b[0;34m(\u001b[0m\u001b[0mdata\u001b[0m\u001b[0;34m)\u001b[0m \u001b[0;34m!=\u001b[0m \u001b[0mlen\u001b[0m\u001b[0;34m(\u001b[0m\u001b[0mindex\u001b[0m\u001b[0;34m)\u001b[0m\u001b[0;34m:\u001b[0m\u001b[0;34m\u001b[0m\u001b[0;34m\u001b[0m\u001b[0m\n\u001b[1;32m    531\u001b[0m         raise ValueError(\n\u001b[0;32m--> 532\u001b[0;31m             \u001b[0;34m\"Length of values \"\u001b[0m\u001b[0;34m\u001b[0m\u001b[0;34m\u001b[0m\u001b[0m\n\u001b[0m\u001b[1;32m    533\u001b[0m             \u001b[0;34mf\"({len(data)}) \"\u001b[0m\u001b[0;34m\u001b[0m\u001b[0;34m\u001b[0m\u001b[0m\n\u001b[1;32m    534\u001b[0m             \u001b[0;34m\"does not match length of index \"\u001b[0m\u001b[0;34m\u001b[0m\u001b[0;34m\u001b[0m\u001b[0m\n",
      "\u001b[0;31mValueError\u001b[0m: Length of values (5100) does not match length of index (3253)"
     ]
    }
   ],
   "source": [
    "df['code'] = codes\n",
    "df['commit_id'] = cms\n",
    "# df['repo'] = repos"
   ]
  },
  {
   "cell_type": "code",
   "execution_count": null,
   "metadata": {},
   "outputs": [],
   "source": [
    "df = df.sort_values(by=['recall'], ascending=False)\n",
    "df.to_excel('output/result.xlsx')"
   ]
  },
  {
   "cell_type": "code",
   "execution_count": null,
   "metadata": {},
   "outputs": [
    {
     "data": {
      "text/plain": [
       "(0.24714737658854655, 0.3177320408349927)"
      ]
     },
     "execution_count": 20,
     "metadata": {},
     "output_type": "execute_result"
    }
   ],
   "source": [
    "sum(df['recall'])/ df.shape[0], sum(df['precision'])/ df.shape[0]"
   ]
  }
 ],
 "metadata": {
  "kernelspec": {
   "display_name": "env",
   "language": "python",
   "name": "python3"
  },
  "language_info": {
   "codemirror_mode": {
    "name": "ipython",
    "version": 3
   },
   "file_extension": ".py",
   "mimetype": "text/x-python",
   "name": "python",
   "nbconvert_exporter": "python",
   "pygments_lexer": "ipython3",
   "version": "3.7.17"
  },
  "orig_nbformat": 4
 },
 "nbformat": 4,
 "nbformat_minor": 2
}
